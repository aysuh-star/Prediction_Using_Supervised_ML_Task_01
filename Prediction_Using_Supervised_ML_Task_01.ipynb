
  {
   "cell_type": "markdown",
   "metadata": {},
   "source": [
    "# Demonstrating the Task\n",
    "\n",
    "This is a Supervised Learning Problem Where We Know What Our Output Shpuld look like and There is Some Relationship bewteen Input and Output and we have to In this Task:\n",
    "\n",
    "- Problem Statement:- **Predict the Percentage of a Student based on study hours**\n",
    "- Algorithm:- **We Will Use Linear Regression Algorithm to approach this problem.**\n",
    "- Programming Language:- **We Will be Using Python Programming Language.** \n"
   ]
  },
  {
   "cell_type": "markdown",
   "metadata": {},
   "source": [
    "### About Data \n",
    "Data Source:- [Data](https://bit.ly/2L1dXz9)\n",
    "Data Information:\n",
    "\n",
    "- Data has Two Features Named \"Hours\" and \"Scores\".\n",
    "- We have train the model that can predict the Scores based on Study Hours.\n"
   ]
  },
  {
   "cell_type": "code",
   "execution_count": 1,
   "metadata": {},
   "outputs": [
    {
     "data": {
      "text/html": [
       "<div>\n",
       "<style scoped>\n",
       "    .dataframe tbody tr th:only-of-type {\n",
       "        vertical-align: middle;\n",
       "    }\n",
       "\n",
       "    .dataframe tbody tr th {\n",
       "        vertical-align: top;\n",
       "    }\n",
       "\n",
       "    .dataframe thead th {\n",
       "        text-align: right;\n",
       "    }\n",
       "</style>\n",
       "<table border=\"1\" class=\"dataframe\">\n",
       "  <thead>\n",
       "    <tr style=\"text-align: right;\">\n",
       "      <th></th>\n",
       "      <th>Hours</th>\n",
       "      <th>Scores</th>\n",
       "    </tr>\n",
       "  </thead>\n",
       "  <tbody>\n",
       "    <tr>\n",
       "      <th>0</th>\n",
       "      <td>2.5</td>\n",
       "      <td>21</td>\n",
       "    </tr>\n",
       "    <tr>\n",
       "      <th>1</th>\n",
       "      <td>5.1</td>\n",
       "      <td>47</td>\n",
       "    </tr>\n",
       "    <tr>\n",
       "      <th>2</th>\n",
       "      <td>3.2</td>\n",
       "      <td>27</td>\n",
       "    </tr>\n",
       "    <tr>\n",
       "      <th>3</th>\n",
       "      <td>8.5</td>\n",
       "      <td>75</td>\n",
       "    </tr>\n",
       "    <tr>\n",
       "      <th>4</th>\n",
       "      <td>3.5</td>\n",
       "      <td>30</td>\n",
       "    </tr>\n",
       "  </tbody>\n",
       "</table>\n",
       "</div>"
      ],
      "text/plain": [
       "   Hours  Scores\n",
       "0    2.5      21\n",
       "1    5.1      47\n",
       "2    3.2      27\n",
       "3    8.5      75\n",
       "4    3.5      30"
      ]
     },
     "execution_count": 1,
     "metadata": {},
     "output_type": "execute_result"
    }
   ],
   "source": [
    "# Importing Libraries that we will be using in this task\n",
    "import numpy as np # For Calculating \n",
    "import pandas as pd # For Working with data\n",
    "import seaborn as sns\n",
    "import matplotlib.pyplot as plt # Visualizing things \n",
    "%matplotlib inline \n",
    "\n",
    "data = pd.read_csv(\"student_scores - student_scores.csv\") # Reading Data\n",
    "data.head()"
   ]
  },
  {
   "cell_type": "code",
   "execution_count": 2,
   "metadata": {},
   "outputs": [
    {
     "name": "stdout",
     "output_type": "stream",
     "text": [
      "<class 'pandas.core.frame.DataFrame'>\n",
      "RangeIndex: 25 entries, 0 to 24\n",
      "Data columns (total 2 columns):\n",
      " #   Column  Non-Null Count  Dtype  \n",
      "---  ------  --------------  -----  \n",
      " 0   Hours   25 non-null     float64\n",
      " 1   Scores  25 non-null     int64  \n",
      "dtypes: float64(1), int64(1)\n",
      "memory usage: 528.0 bytes\n"
     ]
    }
   ],
   "source": [
    "data.info()"
   ]
  },
  {
   "cell_type": "code",
   "execution_count": 3,
   "metadata": {},
   "outputs": [
    {
     "data": {
      "text/html": [
       "<div>\n",
       "<style scoped>\n",
       "    .dataframe tbody tr th:only-of-type {\n",
       "        vertical-align: middle;\n",
       "    }\n",
       "\n",
       "    .dataframe tbody tr th {\n",
       "        vertical-align: top;\n",
       "    }\n",
       "\n",
       "    .dataframe thead th {\n",
       "        text-align: right;\n",
       "    }\n",
       "</style>\n",
       "<table border=\"1\" class=\"dataframe\">\n",
       "  <thead>\n",
       "    <tr style=\"text-align: right;\">\n",
       "      <th></th>\n",
       "      <th>Hours</th>\n",
       "      <th>Scores</th>\n",
       "    </tr>\n",
       "  </thead>\n",
       "  <tbody>\n",
       "    <tr>\n",
       "      <th>count</th>\n",
       "      <td>25.000000</td>\n",
       "      <td>25.000000</td>\n",
       "    </tr>\n",
       "    <tr>\n",
       "      <th>mean</th>\n",
       "      <td>5.012000</td>\n",
       "      <td>51.480000</td>\n",
       "    </tr>\n",
       "    <tr>\n",
       "      <th>std</th>\n",
       "      <td>2.525094</td>\n",
       "      <td>25.286887</td>\n",
       "    </tr>\n",
       "    <tr>\n",
       "      <th>min</th>\n",
       "      <td>1.100000</td>\n",
       "      <td>17.000000</td>\n",
       "    </tr>\n",
       "    <tr>\n",
       "      <th>25%</th>\n",
       "      <td>2.700000</td>\n",
       "      <td>30.000000</td>\n",
       "    </tr>\n",
       "    <tr>\n",
       "      <th>50%</th>\n",
       "      <td>4.800000</td>\n",
       "      <td>47.000000</td>\n",
       "    </tr>\n",
       "    <tr>\n",
       "      <th>75%</th>\n",
       "      <td>7.400000</td>\n",
       "      <td>75.000000</td>\n",
       "    </tr>\n",
       "    <tr>\n",
       "      <th>max</th>\n",
       "      <td>9.200000</td>\n",
       "      <td>95.000000</td>\n",
       "    </tr>\n",
       "  </tbody>\n",
       "</table>\n",
       "</div>"
      ],
      "text/plain": [
       "           Hours     Scores\n",
       "count  25.000000  25.000000\n",
       "mean    5.012000  51.480000\n",
       "std     2.525094  25.286887\n",
       "min     1.100000  17.000000\n",
       "25%     2.700000  30.000000\n",
       "50%     4.800000  47.000000\n",
       "75%     7.400000  75.000000\n",
       "max     9.200000  95.000000"
      ]
     },
     "execution_count": 3,
     "metadata": {},
     "output_type": "execute_result"
    }
   ],
   "source": [
    "data.describe()"
   ]
  },
  {
   "cell_type": "code",
   "execution_count": 4,
   "metadata": {},
   "outputs": [
    {
     "data": {
      "image/png": "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\n",
      "text/plain": [
       "<Figure size 432x288 with 1 Axes>"
      ]
     },
     "metadata": {
      "needs_background": "light"
     },
     "output_type": "display_data"
    }
   ],
   "source": [
    "sns.scatterplot(x = data[\"Hours\"],y=data[\"Scores\"],data=data)\n",
    "plt.title('Hours vs Percentage')  \n",
    "plt.xlabel('Hours Studied')  \n",
    "plt.ylabel('Percentage Score') \n",
    "plt.show()"
   ]
  },
  {
   "cell_type": "code",
   "execution_count": 5,
   "metadata": {},
   "outputs": [],
   "source": [
    "# Implementation of Simple Linear Regression From Scratch  \n",
    "\n",
    "def predict(m,b,X):\n",
    "    return m*X+b\n",
    "\n",
    "#Error\n",
    "def error(m,b,x,y):\n",
    "    return predict(m,b,x) - y\n",
    "\n",
    "#Sum of squared error\n",
    "def sum_square_error(m,b,X,Y):\n",
    "    errored=0\n",
    "    no_of_element = len(X)\n",
    "    for i in range(no_of_element):\n",
    "        errored+=error(m,b,X[i],Y[i])\n",
    "    return errored**2\n",
    "\n",
    "#The Fit Method\n",
    "import numpy as np\n",
    "def least_square_mean_fit(X,Y):\n",
    "    x_mean = np.mean(X)\n",
    "    y_mean = np.mean(Y)\n",
    "  ## Total number of values\n",
    "    total_no_values=len(X)\n",
    "    corr=0\n",
    "    std=0\n",
    "    for i in range(total_no_values):\n",
    "        corr+=((X[i]-x_mean) * (Y[i]-y_mean))\n",
    "        std+=(X[i] - x_mean)**2\n",
    "    m=corr/std\n",
    "    b=y_mean - (m*x_mean)\n",
    "    return m,b"
   ]
  },
  {
   "cell_type": "code",
   "execution_count": 6,
   "metadata": {},
   "outputs": [],
   "source": [
    "X = data.iloc[:,:-1].values \n",
    "Y = data.iloc[:,1].values "
   ]
  },
  {
   "cell_type": "code",
   "execution_count": 7,
   "metadata": {},
   "outputs": [
    {
     "name": "stdout",
     "output_type": "stream",
     "text": [
      "[9.77580339] , [2.48367341]\n"
     ]
    }
   ],
   "source": [
    "m,b = least_square_mean_fit(X,Y)\n",
    "print(m,\",\",b)"
   ]
  },
  {
   "cell_type": "code",
   "execution_count": 8,
   "metadata": {},
   "outputs": [
    {
     "name": "stdout",
     "output_type": "stream",
     "text": [
      "[1.02236373e-27]\n"
     ]
    }
   ],
   "source": [
    "print(sum_square_error(m,b,X,Y))"
   ]
  },
  {
   "cell_type": "code",
   "execution_count": 9,
   "metadata": {},
   "outputs": [
    {
     "name": "stdout",
     "output_type": "stream",
     "text": [
      "The Predicted Score when a Student Study 9.25 Hours a Day is [92.90985477]\n"
     ]
    }
   ],
   "source": [
    "pred  = predict(m,b,9.25)\n",
    "print(\"The Predicted Score when a Student Study 9.25 Hours a Day is {}\".format(pred))"
   ]
  },
  {
   "cell_type": "code",
   "execution_count": 10,
   "metadata": {},
   "outputs": [
    {
     "data": {
      "image/png": "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\n",
      "text/plain": [
       "<Figure size 432x288 with 1 Axes>"
      ]
     },
     "metadata": {
      "needs_background": "light"
     },
     "output_type": "display_data"
    }
   ],
   "source": [
    "import matplotlib.pyplot as plt\n",
    "x_max = np.max(X) \n",
    "x_min = np.min(X) \n",
    "\n",
    "x = np.linspace(x_min, x_max, 1000)\n",
    "y = b + m * x\n",
    "#plotting line \n",
    "plt.plot(x, y, color='#00ff00', label='Linear Regression')\n",
    "#plot the data point\n",
    "plt.scatter(X, Y, color='#ff0000', label='Data Point')\n",
    "plt.legend()\n",
    "plt.show()"
   ]
  },
  {
   "cell_type": "markdown",
   "metadata": {},
   "source": [
    "# Comparing With Sklearn"
   ]
  },
  {
   "cell_type": "code",
   "execution_count": 11,
   "metadata": {},
   "outputs": [],
   "source": [
    "# Spliting the data into test and training set \n",
    "X = data.iloc[:,:-1].values \n",
    "y = data.iloc[:,1].values \n",
    "from sklearn.model_selection import train_test_split  \n",
    "X_train, X_test, y_train, y_test = train_test_split(X, y, \n",
    "                            test_size=0.2, random_state=0)"
   ]
  },
  {
   "cell_type": "code",
   "execution_count": 12,
   "metadata": {},
   "outputs": [
    {
     "data": {
      "text/plain": [
       "LinearRegression()"
      ]
     },
     "execution_count": 12,
     "metadata": {},
     "output_type": "execute_result"
    }
   ],
   "source": [
    "# Train the Model\n",
    "from sklearn.linear_model import LinearRegression  \n",
    "lr = LinearRegression()  \n",
    "lr.fit(X_train, y_train)"
   ]
  },
  {
   "cell_type": "code",
   "execution_count": 13,
   "metadata": {},
   "outputs": [
    {
     "name": "stdout",
     "output_type": "stream",
     "text": [
      "No of Hours = 9.25\n",
      "Predicted Score = 93.69\n"
     ]
    }
   ],
   "source": [
    "\n",
    "# You can also test with your own data\n",
    "hours = 9.25\n",
    "own_pred = round(lr.predict([[9.25]])[0],2)\n",
    "print(\"No of Hours = {}\".format(hours))\n",
    "print(\"Predicted Score = {}\".format(own_pred))"
   ]
  }
 ],
 "metadata": {
  "kernelspec": {
   "display_name": "Python 3",
   "language": "python",
   "name": "python3"
  },
  "language_info": {
   "codemirror_mode": {
    "name": "ipython",
    "version": 3
   },
   "file_extension": ".py",
   "mimetype": "text/x-python",
   "name": "python",
   "nbconvert_exporter": "python",
   "pygments_lexer": "ipython3",
   "version": "3.8.3"
  }
 },
 "nbformat": 4,
 "nbformat_minor": 4
}
